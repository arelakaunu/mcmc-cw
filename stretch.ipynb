{
 "cells": [
  {
   "cell_type": "code",
   "execution_count": 1,
   "id": "d57739bf",
   "metadata": {},
   "outputs": [],
   "source": [
    "import random\n",
    "import numpy as np"
   ]
  },
  {
   "cell_type": "code",
   "execution_count": 2,
   "id": "cd36e164",
   "metadata": {},
   "outputs": [],
   "source": [
    "def sample_Z(a=2.0):\n",
    "    u = np.random.rand()\n",
    "    z = ((1-u) * (1/a) ** 0.5 + u * a**0.5) ** 2\n",
    "    return z"
   ]
  },
  {
   "cell_type": "code",
   "execution_count": 3,
   "id": "1752cb88",
   "metadata": {},
   "outputs": [
    {
     "name": "stderr",
     "output_type": "stream",
     "text": [
      "<>:3: SyntaxWarning: 'float' object is not callable; perhaps you missed a comma?\n",
      "<>:3: SyntaxWarning: 'float' object is not callable; perhaps you missed a comma?\n",
      "C:\\Users\\user\\AppData\\Local\\Temp\\ipykernel_24212\\1519321787.py:3: SyntaxWarning: 'float' object is not callable; perhaps you missed a comma?\n",
      "  return np.exp(-0.5  (x[0]**2 + x[1]**2))\n"
     ]
    }
   ],
   "source": [
    "def pi(x):\n",
    "    # x is a np array of shape (2,)\n",
    "    return np.exp(-0.5  (x[0]**2 + x[1]**2))"
   ]
  },
  {
   "cell_type": "code",
   "execution_count": 4,
   "id": "cae3ce43",
   "metadata": {},
   "outputs": [],
   "source": [
    "def acceptance_probability(pi, X_k, Y, Z, ndim):\n",
    "    pi_Y = pi(Y)\n",
    "    pi_Xk = pi(X_k)\n",
    "\n",
    "    ratio = Z**(ndim-1)*pi_Y/pi_Xk\n",
    "    alpha = min(1, ratio)\n",
    "    return alpha"
   ]
  },
  {
   "cell_type": "code",
   "execution_count": 5,
   "id": "f6bd2290",
   "metadata": {},
   "outputs": [],
   "source": [
    "def stretch(L_walkers, ndim, nsteps):\n",
    "    X_matrix = np.zeros((L_walkers, ndim, nsteps))\n",
    "    X_matrix[:,:,0] = np.random.uniform(0, 1, (L_walkers, ndim))\n",
    "    for t in range(nsteps):\n",
    "        for k in range(L_walkers):\n",
    "            complimentary_ensemble_indices = [j for j in range(L_walkers) if j != k]\n",
    "            j = random.choice(complimentary_ensemble_indices)\n",
    "            Y = X_matrix[j,:,t] + sample_Z() * (X_matrix[k,:,t] - X_matrix[j,:,t])\n",
    "            if np.random.rand() < acceptance_probability(pi, X_matrix[k,:,t], Y, sample_Z(), ndim):\n",
    "                X_matrix[k,:,t+1] = Y\n",
    "            else:\n",
    "                X_matrix[k,:,t+1] = X_matrix[k,:,t]"
   ]
  }
 ],
 "metadata": {
  "kernelspec": {
   "display_name": ".venv",
   "language": "python",
   "name": "python3"
  },
  "language_info": {
   "codemirror_mode": {
    "name": "ipython",
    "version": 3
   },
   "file_extension": ".py",
   "mimetype": "text/x-python",
   "name": "python",
   "nbconvert_exporter": "python",
   "pygments_lexer": "ipython3",
   "version": "3.11.9"
  }
 },
 "nbformat": 4,
 "nbformat_minor": 5
}
