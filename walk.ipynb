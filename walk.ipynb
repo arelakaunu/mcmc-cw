{
 "cells": [
  {
   "cell_type": "code",
   "execution_count": 20,
   "id": "ce55fbb4",
   "metadata": {},
   "outputs": [
    {
     "name": "stdout",
     "output_type": "stream",
     "text": [
      "1.1370525019364233\n",
      "Standard Deviation: 2.5\n"
     ]
    }
   ],
   "source": [
    "import numpy as np\n",
    "import random\n",
    "\n",
    "# Generate a random number from a normal distribution with mean 0 and standard deviation 1\n",
    "random_number = np.random.normal(loc=0, scale=1)\n",
    "print(random_number)\n",
    "\n",
    "# Example numpy array\n",
    "data = np.array([1, 2, 3, 4, 5])\n",
    "\n",
    "# Calculate the standard deviation of the array\n",
    "cov_matrix = np.cov(data, rowvar=False)\n",
    "print(\"Standard Deviation:\", cov_matrix)"
   ]
  },
  {
   "cell_type": "code",
   "execution_count": 21,
   "id": "786f8e3c",
   "metadata": {},
   "outputs": [
    {
     "name": "stderr",
     "output_type": "stream",
     "text": [
      "<>:3: SyntaxWarning: 'float' object is not callable; perhaps you missed a comma?\n",
      "<>:3: SyntaxWarning: 'float' object is not callable; perhaps you missed a comma?\n",
      "C:\\Users\\user\\AppData\\Local\\Temp\\ipykernel_38232\\1519321787.py:3: SyntaxWarning: 'float' object is not callable; perhaps you missed a comma?\n",
      "  return np.exp(-0.5  (x[0]**2 + x[1]**2))\n"
     ]
    }
   ],
   "source": [
    "def pi(x):\n",
    "    # x is a np array of shape (2,)\n",
    "    return np.exp(-0.5  (x[0]**2 + x[1]**2))"
   ]
  },
  {
   "cell_type": "code",
   "execution_count": 22,
   "id": "f5726f9a",
   "metadata": {},
   "outputs": [],
   "source": [
    "def acceptance_probability(pi, X_k, W):\n",
    "    Y = X_k + W\n",
    "    pi_Y = pi(Y)\n",
    "    pi_Xk = pi(X_k)\n",
    "\n",
    "    alpha = min(1.0, pi_Y/pi_Xk)\n",
    "    return alpha"
   ]
  },
  {
   "cell_type": "code",
   "execution_count": null,
   "id": "f2294d56",
   "metadata": {},
   "outputs": [],
   "source": [
    "def walk(L_walkers, ndim, nsteps, S):\n",
    "    if S >= 2:\n",
    "        X_matrix = np.zeros((L_walkers, ndim, nsteps))\n",
    "        X_matrix[:,:,0] = np.random.uniform(0, 1, (L_walkers, ndim))\n",
    "        for t in range(nsteps):\n",
    "            for k in range(L_walkers):\n",
    "                complimentary_ensemble_indices = [j for j in range(L_walkers) if j != k]\n",
    "                j = random.sample(complimentary_ensemble_indices, S)\n",
    "                W = np.cov(X_matrix[j,:,t], rowvar=False)\n",
    "                Y = X_matrix[k,:,t] + W\n",
    "                if np.random.rand() < acceptance_probability(pi, X_matrix[k,:,t], W):\n",
    "                    X_matrix[k,:,t+1] = Y\n",
    "                else:\n",
    "                    X_matrix[k,:,t+1] = X_matrix[k,:,t]\n",
    "    else:\n",
    "        pass"
   ]
  }
 ],
 "metadata": {
  "kernelspec": {
   "display_name": ".venv",
   "language": "python",
   "name": "python3"
  },
  "language_info": {
   "codemirror_mode": {
    "name": "ipython",
    "version": 3
   },
   "file_extension": ".py",
   "mimetype": "text/x-python",
   "name": "python",
   "nbconvert_exporter": "python",
   "pygments_lexer": "ipython3",
   "version": "3.11.9"
  }
 },
 "nbformat": 4,
 "nbformat_minor": 5
}
