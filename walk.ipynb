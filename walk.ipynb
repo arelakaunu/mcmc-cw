{
 "cells": [
  {
   "cell_type": "code",
   "execution_count": 9,
   "id": "ce55fbb4",
   "metadata": {},
   "outputs": [
    {
     "name": "stdout",
     "output_type": "stream",
     "text": [
      "-0.18611954880972456\n",
      "Standard Deviation: 2.5\n"
     ]
    }
   ],
   "source": [
    "import numpy as np\n",
    "import random\n",
    "\n",
    "# Generate a random number from a normal distribution with mean 0 and standard deviation 1\n",
    "random_number = np.random.normal(loc=0, scale=1)\n",
    "print(random_number)\n",
    "\n",
    "# Example numpy array\n",
    "data = np.array([1, 2, 3, 4, 5])\n",
    "\n",
    "# Calculate the standard deviation of the array\n",
    "cov_matrix = np.cov(data, rowvar=False)\n",
    "print(\"Standard Deviation:\", cov_matrix)"
   ]
  },
  {
   "cell_type": "code",
   "execution_count": 17,
   "id": "f2294d56",
   "metadata": {},
   "outputs": [],
   "source": [
    "def walk(L_walkers, ndim, nsteps, S):\n",
    "    X_matrix = np.zeros((L_walkers, ndim, nsteps))\n",
    "    X_matrix[:,:,0] = np.random.uniform(0, 1, (L_walkers, ndim))\n",
    "    for t in range(nsteps):\n",
    "        for k in range(L_walkers):\n",
    "            complimentary_ensemble_indices = [j for j in range(L_walkers) if j != k]\n",
    "            j = random.sample(complimentary_ensemble_indices, S)\n",
    "            W = np.cov(X_matrix[j,:,t], rowvar=False)\n",
    "            Y = X_matrix[j,:,t] + sample_Z() * (X_matrix[k,:,t] - X_matrix[j,:,t])\n",
    "            if np.random.rand() < acceptance_probability(pi, X_matrix[k,:,t], Y, sample_Z(), ndim):\n",
    "                X_matrix[k,:,t+1] = Y\n",
    "            else:\n",
    "                X_matrix[k,:,t+1] = X_matrix[k,:,t]"
   ]
  }
 ],
 "metadata": {
  "kernelspec": {
   "display_name": ".venv",
   "language": "python",
   "name": "python3"
  },
  "language_info": {
   "codemirror_mode": {
    "name": "ipython",
    "version": 3
   },
   "file_extension": ".py",
   "mimetype": "text/x-python",
   "name": "python",
   "nbconvert_exporter": "python",
   "pygments_lexer": "ipython3",
   "version": "3.11.9"
  }
 },
 "nbformat": 4,
 "nbformat_minor": 5
}
