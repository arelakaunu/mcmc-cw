{
  "cells": [
    {
      "cell_type": "code",
      "execution_count": 1,
      "metadata": {
        "id": "2xJ0SmVLWjeD"
      },
      "outputs": [],
      "source": [
        "from numba import njit\n",
        "import numpy as np\n",
        "\n",
        "@njit\n",
        "def run_ising2d(N, T, J, B, n_steps, out_freq):\n",
        "    '''Basic Metropolis Monte Carlo simulator of 2D Ising model\n",
        "    ---\n",
        "    spins:    (int, int) 2D numpy array\n",
        "    T, J, B:  (floats) corresponding to temperature, coupling and field variables\n",
        "    n_steps:  (int), simulation steeps\n",
        "    out_freq: (int), How often to compute and save data\n",
        "    ---\n",
        "    Returns:\n",
        "    E/N: per-spin energy over n steps\n",
        "    M/N: per-spin magnetization over n steps\n",
        "    S:   2D spin configurations over n steps\n",
        "    '''\n",
        "\n",
        "    #### Initialize spin-lattice configuration\n",
        "    spins = 2*(np.random.rand(N, N) < 0.5) - 1\n",
        "\n",
        "    # We use explicit looping required by njit accelearation\n",
        "    M_t   = np.sum(spins)\n",
        "    E_t   = -B*M_t\n",
        "    for i in range(N):\n",
        "        for j in range(N):\n",
        "            z    = spins[(i+1)%N, j] + spins[(i-1)%N, j] + spins[i,(j+1)%N] + spins[i,(j-1)%N]\n",
        "            E_t += -1/2 * J * z\n",
        "\n",
        "    #### Run MC Simulation\n",
        "    S, E, M = [], [], []\n",
        "    for step in range(n_steps):\n",
        "\n",
        "        # Pick random spin\n",
        "        i, j = np.random.randint(N), np.random.randint(N)\n",
        "\n",
        "        # Compute energy change resulting from a flip of spin at i,j\n",
        "        z  = spins[(i+1)%N, j] + spins[(i-1)%N, j] + spins[i, (j+1)%N] + spins[i, (j-1)%N]\n",
        "        dE = 2*spins[i,j]*(J*z + B)\n",
        "        dM = 2*spins[i,j]\n",
        "\n",
        "        # Metropolis condition\n",
        "        if np.exp(-dE/T) > np.random.rand():\n",
        "            spins[i,j] *= -1\n",
        "            E_t        += dE\n",
        "            M_t        += dM\n",
        "\n",
        "        # Save Thermo data\n",
        "        if step % out_freq == 0:\n",
        "            M.append(M_t/N**2)\n",
        "            E.append(E_t/N**2)\n",
        "            S.append(spins.copy())\n",
        "\n",
        "    return S, E, M"
      ]
    },
    {
      "cell_type": "code",
      "execution_count": null,
      "metadata": {
        "id": "vR01oQyIWubg"
      },
      "outputs": [],
      "source": [
        "#Simulation Parameters\n",
        "params = {'N':40,\n",
        "          'J':1,\n",
        "          'B':0,\n",
        "          'T': 4,\n",
        "          'n_steps': 100000,\n",
        "          'out_freq': 10}\n",
        "\n",
        "# Simulation\n",
        "S, E, M = run_ising2d(**params)"
      ]
    },
    {
      "cell_type": "code",
      "execution_count": null,
      "metadata": {
        "id": "7uQoW5RmWwsj"
      },
      "outputs": [],
      "source": [
        "np.array(S).shape, np.array(E).shape, np.array(M).shape"
      ]
    },
    {
      "cell_type": "code",
      "execution_count": null,
      "metadata": {
        "id": "lZ898FIjWyDA"
      },
      "outputs": [],
      "source": [
        "@widgets.interact(i=(0, 10000-1))\n",
        "def plot_image(i=0):\n",
        "\n",
        "    fig, ax  = plt.subplots(ncols=3, figsize=(10,4))\n",
        "\n",
        "    ax[0].pcolor(S[i])\n",
        "    ax[1].plot(E)\n",
        "    ax[2].plot(M)\n",
        "\n",
        "    ax[0].set(ylabel='$i$', xlabel='j')\n",
        "    ax[1].set(ylabel='$E$', xlabel='steps')\n",
        "    ax[2].set(ylabel='$M$', xlabel='steps')\n",
        "    fig.tight_layout()\n",
        "    plt.show()"
      ]
    },
    {
      "cell_type": "code",
      "execution_count": null,
      "metadata": {
        "id": "LKlrLmiHW0hk"
      },
      "outputs": [],
      "source": [
        "#Simulation Parameters\n",
        "params = {'N':40,\n",
        "          'J':1,\n",
        "          'B':0,\n",
        "          'T': 4,\n",
        "          'n_steps': 1000000,\n",
        "          'out_freq': 10}\n",
        "\n",
        "Ts = np.linspace(1, 4, 40)\n",
        "Es, Ms, Cs, Xs = [], [], [], []\n",
        "\n",
        "for T in Ts:\n",
        "\n",
        "    params['T']=T\n",
        "\n",
        "    S, E, M = run_ising2d(**params)\n",
        "\n",
        "    # Save last 90% percent of data\n",
        "    idx = int(len(E) * 0.1)\n",
        "\n",
        "    E = E[idx:]\n",
        "    M = M[idx:]\n",
        "\n",
        "    Es.append(np.mean(E))\n",
        "    Ms.append(np.mean(M))\n",
        "\n",
        "    Cs.append(np.var(E)/T**2)\n",
        "    Xs.append(np.var(M)/T)"
      ]
    },
    {
      "cell_type": "code",
      "execution_count": null,
      "metadata": {
        "id": "WlDZzRiUW3Sy"
      },
      "outputs": [],
      "source": [
        "fig, ax  = plt.subplots(ncols=2, nrows=2, figsize=(8,6))\n",
        "\n",
        "ax[0,0].scatter(Ts, Es)\n",
        "ax[0,0].set(ylabel='$E(T)$')\n",
        "\n",
        "ax[0,1].scatter(Ts, Ms)\n",
        "ax[0,1].set(ylabel='$M(T)$')\n",
        "\n",
        "ax[1,0].scatter(Ts, Cs)\n",
        "ax[1,0].set(ylabel='$C_v(T)$')\n",
        "\n",
        "ax[1,1].scatter(Ts, Xs)\n",
        "ax[1,1].set(ylabel='$\\Xi(T)$')\n",
        "fig.tight_layout()"
      ]
    },
    {
      "cell_type": "code",
      "execution_count": null,
      "metadata": {
        "id": "UKfyeZATW502"
      },
      "outputs": [],
      "source": [
        "def autocorr(x):\n",
        "    n = len(x)\n",
        "    variance = x.var()\n",
        "    x = x - x.mean()\n",
        "    result = np.correlate(x, x, mode='full')[-n:]\n",
        "    result /= variance * np.arange(n, 0, -1)\n",
        "    return result\n",
        "\n",
        "M = np.random.randn(1000)  # Example data; replace with your magnetization array\n",
        "acorr = autocorr(M)\n",
        "plt.plot(acorr/acorr[0])\n",
        "plt.xlabel('Steps, $n$')\n",
        "plt.ylabel(r'$\\langle M(t)M(t+n) \\rangle$')\n",
        "plt.show()"
      ]
    }
  ],
  "metadata": {
    "colab": {
      "provenance": []
    },
    "kernelspec": {
      "display_name": "Python 3",
      "name": "python3"
    },
    "language_info": {
      "codemirror_mode": {
        "name": "ipython",
        "version": 3
      },
      "file_extension": ".py",
      "mimetype": "text/x-python",
      "name": "python",
      "nbconvert_exporter": "python",
      "pygments_lexer": "ipython3",
      "version": "3.11.9"
    }
  },
  "nbformat": 4,
  "nbformat_minor": 0
}
